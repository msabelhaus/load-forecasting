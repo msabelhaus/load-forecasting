{
 "cells": [
  {
   "cell_type": "markdown",
   "metadata": {
    "id": "_zKCUehCUODd"
   },
   "source": [
    "This notebook works as deployment for my LSTM model to forecast next hour's load for the Connecticut ISO Zone. \n",
    "\n",
    "It makes use of the Voila framework to create a webpage where a user can upload a CSV with the past 9 or more hour's average load and temperature, along with a variable for if the next hour is an on or off peak time dummy, and returns the forecast for the next hour's average energy demand. \n",
    "\n",
    "To run: should the user have cloned my repository and have all the required packages installed in their VE, simply cd into where the repository is located on one's system and enter 'voila deployment.ipynb'. This will bring up the aforementioned webpage. \n",
    "\n",
    "You can use the file labeled 'dataDeployment.csv' in the /data folder to test. This csv holds values for the three variables for hours 13-22 of 10/19/21."
   ]
  },
  {
   "cell_type": "code",
   "execution_count": 1,
   "metadata": {
    "id": "fXnWf9mLwMhv"
   },
   "outputs": [],
   "source": [
    "# Libraries\n",
    "import pandas as pd\n",
    "import numpy as np\n",
    "import datetime as dt\n",
    "from sklearn.preprocessing import StandardScaler, MinMaxScaler\n",
    "import io\n",
    "from ipywidgets import FileUpload, Label, Image, Button, Output\n",
    "import os\n",
    "\n",
    "import tensorflow as tf\n",
    "import tensorflow.keras as keras\n",
    "from tensorflow.keras.models import load_model"
   ]
  },
  {
   "cell_type": "code",
   "execution_count": 2,
   "metadata": {},
   "outputs": [
    {
     "name": "stdout",
     "output_type": "stream",
     "text": [
      "3.8.12\n"
     ]
    }
   ],
   "source": [
    "from platform import python_version\n",
    "\n",
    "print(python_version())"
   ]
  },
  {
   "cell_type": "markdown",
   "metadata": {
    "id": "fytlSlq-UKdw"
   },
   "source": [
    "Begin by loading in the trained model."
   ]
  },
  {
   "cell_type": "code",
   "execution_count": 3,
   "metadata": {
    "id": "7HShTaVgbDUs"
   },
   "outputs": [
    {
     "name": "stderr",
     "output_type": "stream",
     "text": [
      "2022-01-18 12:40:28.768995: I tensorflow/core/platform/cpu_feature_guard.cc:142] This TensorFlow binary is optimized with oneAPI Deep Neural Network Library (oneDNN) to use the following CPU instructions in performance-critical operations:  AVX2 FMA\n",
      "To enable them in other operations, rebuild TensorFlow with the appropriate compiler flags.\n"
     ]
    }
   ],
   "source": [
    "lstm_model = load_model('loadFcastLSTM.h5')"
   ]
  },
  {
   "cell_type": "code",
   "execution_count": 4,
   "metadata": {
    "colab": {
     "base_uri": "https://localhost:8080/",
     "height": 81,
     "referenced_widgets": [
      "608f18d4eb0a4ab5a8eab484e57463b6",
      "6afa8b6b0760433d90308b3fc103e1d2",
      "949a312e3a9444398344d250f3539a8f",
      "e729a9f58f4c49b5bf6e68313e7cbe8c",
      "d1fe410294fc4a0884242ff1e9d84dbc",
      "8d661dd99bf245a68283c05daf5654c8"
     ]
    },
    "id": "O043GAT3wYqY",
    "outputId": "2db46594-c190-465b-8e09-48d9aead0a34"
   },
   "outputs": [
    {
     "data": {
      "application/vnd.jupyter.widget-view+json": {
       "model_id": "2bf046f12fb044f5b3052868641c5c5f",
       "version_major": 2,
       "version_minor": 0
      },
      "text/plain": [
       "Label(value='Please upload a single csv below.')"
      ]
     },
     "metadata": {},
     "output_type": "display_data"
    },
    {
     "data": {
      "application/vnd.jupyter.widget-view+json": {
       "model_id": "aa3ef210c98b4d39a7345f3d8cf93e03",
       "version_major": 2,
       "version_minor": 0
      },
      "text/plain": [
       "FileUpload(value={}, accept='*.csv', description='Upload')"
      ]
     },
     "metadata": {},
     "output_type": "display_data"
    }
   ],
   "source": [
    "# Upload CSV\n",
    "csv_upload = FileUpload(accept='*.csv', multiple=False)\n",
    "csv_label = Label(value = \"Please upload a single csv below.\")\n",
    "\n",
    "display(csv_label, csv_upload)"
   ]
  },
  {
   "cell_type": "code",
   "execution_count": 5,
   "metadata": {
    "id": "Dn9yiTBVwu8s"
   },
   "outputs": [],
   "source": [
    "input_file = list(csv_upload.value.values())[0]\n",
    "content = input_file['content']\n",
    "content = io.StringIO(content.decode('utf-8'))\n",
    "df = pd.read_csv(content)\n",
    "\n",
    "predict_button = Button(description=\"Predict!\")\n",
    "result = Output()"
   ]
  },
  {
   "cell_type": "code",
   "execution_count": 6,
   "metadata": {
    "id": "cEY2hy7kz12Z"
   },
   "outputs": [],
   "source": [
    "LoadMW_Plus1 = df[\"LoadMW\"].shift(periods=-1)\n",
    "LoadMW_Plus1.name = 'LoadMW_Plus1'\n",
    "df = pd.concat([df, LoadMW_Plus1], axis=1)"
   ]
  },
  {
   "cell_type": "code",
   "execution_count": 7,
   "metadata": {},
   "outputs": [],
   "source": [
    "null_index = df['LoadMW_Plus1'].isnull()"
   ]
  },
  {
   "cell_type": "code",
   "execution_count": 8,
   "metadata": {
    "id": "F0q5Az7rwokY"
   },
   "outputs": [],
   "source": [
    "def predict(button_info):\n",
    "    try:\n",
    "        df_scaled = df.copy()\n",
    "\n",
    "        # Initialize scaler (here we use Min/Max)\n",
    "        sc = MinMaxScaler()\n",
    "\n",
    "        # Fit\n",
    "        sc_x = StandardScaler().fit(df_scaled[[\"TempF\",\"LoadMW\"]])\n",
    "        sc_y = StandardScaler().fit(df_scaled.loc[~null_index, ['LoadMW_Plus1']].values.reshape(-1,1))\n",
    "\n",
    "        # Scale numerical variables\n",
    "        df_scaled[[\"TempF\",\"LoadMW\"]] = sc_x.transform(df_scaled[[\"TempF\",\"LoadMW\"]])\n",
    "        df_scaled.loc[~null_index, [\"LoadMW_Plus1\"]] = sc_y.transform(df_scaled.loc[~null_index, ['LoadMW_Plus1']].values.reshape(-1,1))\n",
    "\n",
    "        # Remove time objects from scaled dataframe\n",
    "        df_scaled = df_scaled[[\"Peak_Plus1\",\"TempF\",\"LoadMW\",\"LoadMW_Plus1\"]]\n",
    "\n",
    "        # Reshape dataframe \n",
    "        # Put our timeseries variables into arrays and horizontally stack them\n",
    "        # This input format is necessary to be able to run through the split_sequences() function\n",
    "        in_seq1 = np.array(df_scaled[\"LoadMW\"])\n",
    "        in_seq2 = np.array(df_scaled[\"TempF\"])\n",
    "        in_seq3 = np.array(df_scaled[\"Peak_Plus1\"])\n",
    "        out_seq = np.array(df_scaled[\"LoadMW_Plus1\"])\n",
    "\n",
    "        # convert to [rows, columns] structure\n",
    "        in_seq1 = in_seq1.reshape((len(in_seq1), 1))\n",
    "        in_seq2 = in_seq2.reshape((len(in_seq2), 1))\n",
    "        in_seq3 = in_seq3.reshape((len(in_seq3), 1)) \n",
    "        out_seq = out_seq.reshape((len(out_seq), 1))\n",
    "\n",
    "        # horizontally stack columns\n",
    "        dataset = np.hstack((in_seq1, in_seq2, in_seq3, out_seq))\n",
    "\n",
    "        # The function below splits our dataset into samples of sequences of time stpes\n",
    "        # It is taken from machinelearningmastery\n",
    "        def split_sequences(sequences, n_steps):\n",
    "          X, y = list(), list()\n",
    "          for i in range(len(sequences)):\n",
    "            # find the end of this pattern\n",
    "            end_ix = i + n_steps\n",
    "            # check if we are beyond the dataset\n",
    "            if end_ix > len(sequences):\n",
    "              break\n",
    "            # gather input and output parts of the pattern\n",
    "            seq_x, seq_y = sequences[i:end_ix, :-1], sequences[end_ix-1, -1]\n",
    "            X.append(seq_x)\n",
    "            y.append(seq_y)\n",
    "          return np.array(X), np.array(y)\n",
    "\n",
    "\n",
    "        X, y = split_sequences(dataset, 9)\n",
    "\n",
    "        prediction = sc_y.inverse_transform(lstm_model.predict(X[1].reshape(1,9,3))).item()\n",
    "\n",
    "        with result:\n",
    "            print(f\"The load forecast for the next hour is {prediction}.\")\n",
    "    except Exception as e:\n",
    "        with result:\n",
    "            print(e)"
   ]
  },
  {
   "cell_type": "code",
   "execution_count": 9,
   "metadata": {
    "colab": {
     "base_uri": "https://localhost:8080/",
     "height": 66,
     "referenced_widgets": [
      "4fd91b86618d4ebd93c778a02961cbcc",
      "6295c48893bd48ef9afc74ee4334a3db",
      "6878c5cc75fa49448cac7ae1fbf9f8ce",
      "f26b10e7f8394409b68d9b6a869d948a",
      "68d0add5c1cb4c7ba467c4c9ad2c97b8"
     ]
    },
    "id": "DVxWTFChchRO",
    "outputId": "ecf1c8ee-9afd-45f8-a1c0-77d87db1d6a9"
   },
   "outputs": [
    {
     "data": {
      "application/vnd.jupyter.widget-view+json": {
       "model_id": "0adcef91f5734a168500f3a090214d9b",
       "version_major": 2,
       "version_minor": 0
      },
      "text/plain": [
       "Button(description='Predict!', style=ButtonStyle())"
      ]
     },
     "metadata": {},
     "output_type": "display_data"
    },
    {
     "data": {
      "application/vnd.jupyter.widget-view+json": {
       "model_id": "d149654bb5e845d4b313deaf6638076a",
       "version_major": 2,
       "version_minor": 0
      },
      "text/plain": [
       "Output()"
      ]
     },
     "metadata": {},
     "output_type": "display_data"
    },
    {
     "name": "stderr",
     "output_type": "stream",
     "text": [
      "2022-01-18 12:40:38.918476: I tensorflow/compiler/mlir/mlir_graph_optimization_pass.cc:185] None of the MLIR Optimization Passes are enabled (registered 2)\n"
     ]
    }
   ],
   "source": [
    "predict_button.on_click(predict)\n",
    "display(predict_button, result)"
   ]
  },
  {
   "cell_type": "code",
   "execution_count": null,
   "metadata": {},
   "outputs": [],
   "source": []
  }
 ],
 "metadata": {
  "colab": {
   "collapsed_sections": [],
   "name": "deployment.ipynb",
   "provenance": []
  },
  "kernelspec": {
   "display_name": "Python 3 (ipykernel)",
   "language": "python",
   "name": "python3"
  },
  "language_info": {
   "codemirror_mode": {
    "name": "ipython",
    "version": 3
   },
   "file_extension": ".py",
   "mimetype": "text/x-python",
   "name": "python",
   "nbconvert_exporter": "python",
   "pygments_lexer": "ipython3",
   "version": "3.8.12"
  },
  "widgets": {
   "application/vnd.jupyter.widget-state+json": {
    "4fd91b86618d4ebd93c778a02961cbcc": {
     "model_module": "@jupyter-widgets/controls",
     "model_module_version": "1.5.0",
     "model_name": "ButtonModel",
     "state": {
      "_dom_classes": [],
      "_model_module": "@jupyter-widgets/controls",
      "_model_module_version": "1.5.0",
      "_model_name": "ButtonModel",
      "_view_count": null,
      "_view_module": "@jupyter-widgets/controls",
      "_view_module_version": "1.5.0",
      "_view_name": "ButtonView",
      "button_style": "",
      "description": "Predict!",
      "disabled": false,
      "icon": "",
      "layout": "IPY_MODEL_6878c5cc75fa49448cac7ae1fbf9f8ce",
      "style": "IPY_MODEL_6295c48893bd48ef9afc74ee4334a3db",
      "tooltip": ""
     }
    },
    "608f18d4eb0a4ab5a8eab484e57463b6": {
     "model_module": "@jupyter-widgets/controls",
     "model_module_version": "1.5.0",
     "model_name": "LabelModel",
     "state": {
      "_dom_classes": [],
      "_model_module": "@jupyter-widgets/controls",
      "_model_module_version": "1.5.0",
      "_model_name": "LabelModel",
      "_view_count": null,
      "_view_module": "@jupyter-widgets/controls",
      "_view_module_version": "1.5.0",
      "_view_name": "LabelView",
      "description": "",
      "description_tooltip": null,
      "layout": "IPY_MODEL_949a312e3a9444398344d250f3539a8f",
      "placeholder": "​",
      "style": "IPY_MODEL_6afa8b6b0760433d90308b3fc103e1d2",
      "value": "Please upload a single csv below."
     }
    },
    "6295c48893bd48ef9afc74ee4334a3db": {
     "model_module": "@jupyter-widgets/controls",
     "model_module_version": "1.5.0",
     "model_name": "ButtonStyleModel",
     "state": {
      "_model_module": "@jupyter-widgets/controls",
      "_model_module_version": "1.5.0",
      "_model_name": "ButtonStyleModel",
      "_view_count": null,
      "_view_module": "@jupyter-widgets/base",
      "_view_module_version": "1.2.0",
      "_view_name": "StyleView",
      "button_color": null,
      "font_weight": ""
     }
    },
    "6878c5cc75fa49448cac7ae1fbf9f8ce": {
     "model_module": "@jupyter-widgets/base",
     "model_module_version": "1.2.0",
     "model_name": "LayoutModel",
     "state": {
      "_model_module": "@jupyter-widgets/base",
      "_model_module_version": "1.2.0",
      "_model_name": "LayoutModel",
      "_view_count": null,
      "_view_module": "@jupyter-widgets/base",
      "_view_module_version": "1.2.0",
      "_view_name": "LayoutView",
      "align_content": null,
      "align_items": null,
      "align_self": null,
      "border": null,
      "bottom": null,
      "display": null,
      "flex": null,
      "flex_flow": null,
      "grid_area": null,
      "grid_auto_columns": null,
      "grid_auto_flow": null,
      "grid_auto_rows": null,
      "grid_column": null,
      "grid_gap": null,
      "grid_row": null,
      "grid_template_areas": null,
      "grid_template_columns": null,
      "grid_template_rows": null,
      "height": null,
      "justify_content": null,
      "justify_items": null,
      "left": null,
      "margin": null,
      "max_height": null,
      "max_width": null,
      "min_height": null,
      "min_width": null,
      "object_fit": null,
      "object_position": null,
      "order": null,
      "overflow": null,
      "overflow_x": null,
      "overflow_y": null,
      "padding": null,
      "right": null,
      "top": null,
      "visibility": null,
      "width": null
     }
    },
    "68d0add5c1cb4c7ba467c4c9ad2c97b8": {
     "model_module": "@jupyter-widgets/base",
     "model_module_version": "1.2.0",
     "model_name": "LayoutModel",
     "state": {
      "_model_module": "@jupyter-widgets/base",
      "_model_module_version": "1.2.0",
      "_model_name": "LayoutModel",
      "_view_count": null,
      "_view_module": "@jupyter-widgets/base",
      "_view_module_version": "1.2.0",
      "_view_name": "LayoutView",
      "align_content": null,
      "align_items": null,
      "align_self": null,
      "border": null,
      "bottom": null,
      "display": null,
      "flex": null,
      "flex_flow": null,
      "grid_area": null,
      "grid_auto_columns": null,
      "grid_auto_flow": null,
      "grid_auto_rows": null,
      "grid_column": null,
      "grid_gap": null,
      "grid_row": null,
      "grid_template_areas": null,
      "grid_template_columns": null,
      "grid_template_rows": null,
      "height": null,
      "justify_content": null,
      "justify_items": null,
      "left": null,
      "margin": null,
      "max_height": null,
      "max_width": null,
      "min_height": null,
      "min_width": null,
      "object_fit": null,
      "object_position": null,
      "order": null,
      "overflow": null,
      "overflow_x": null,
      "overflow_y": null,
      "padding": null,
      "right": null,
      "top": null,
      "visibility": null,
      "width": null
     }
    },
    "6afa8b6b0760433d90308b3fc103e1d2": {
     "model_module": "@jupyter-widgets/controls",
     "model_module_version": "1.5.0",
     "model_name": "DescriptionStyleModel",
     "state": {
      "_model_module": "@jupyter-widgets/controls",
      "_model_module_version": "1.5.0",
      "_model_name": "DescriptionStyleModel",
      "_view_count": null,
      "_view_module": "@jupyter-widgets/base",
      "_view_module_version": "1.2.0",
      "_view_name": "StyleView",
      "description_width": ""
     }
    },
    "8d661dd99bf245a68283c05daf5654c8": {
     "model_module": "@jupyter-widgets/base",
     "model_module_version": "1.2.0",
     "model_name": "LayoutModel",
     "state": {
      "_model_module": "@jupyter-widgets/base",
      "_model_module_version": "1.2.0",
      "_model_name": "LayoutModel",
      "_view_count": null,
      "_view_module": "@jupyter-widgets/base",
      "_view_module_version": "1.2.0",
      "_view_name": "LayoutView",
      "align_content": null,
      "align_items": null,
      "align_self": null,
      "border": null,
      "bottom": null,
      "display": null,
      "flex": null,
      "flex_flow": null,
      "grid_area": null,
      "grid_auto_columns": null,
      "grid_auto_flow": null,
      "grid_auto_rows": null,
      "grid_column": null,
      "grid_gap": null,
      "grid_row": null,
      "grid_template_areas": null,
      "grid_template_columns": null,
      "grid_template_rows": null,
      "height": null,
      "justify_content": null,
      "justify_items": null,
      "left": null,
      "margin": null,
      "max_height": null,
      "max_width": null,
      "min_height": null,
      "min_width": null,
      "object_fit": null,
      "object_position": null,
      "order": null,
      "overflow": null,
      "overflow_x": null,
      "overflow_y": null,
      "padding": null,
      "right": null,
      "top": null,
      "visibility": null,
      "width": null
     }
    },
    "949a312e3a9444398344d250f3539a8f": {
     "model_module": "@jupyter-widgets/base",
     "model_module_version": "1.2.0",
     "model_name": "LayoutModel",
     "state": {
      "_model_module": "@jupyter-widgets/base",
      "_model_module_version": "1.2.0",
      "_model_name": "LayoutModel",
      "_view_count": null,
      "_view_module": "@jupyter-widgets/base",
      "_view_module_version": "1.2.0",
      "_view_name": "LayoutView",
      "align_content": null,
      "align_items": null,
      "align_self": null,
      "border": null,
      "bottom": null,
      "display": null,
      "flex": null,
      "flex_flow": null,
      "grid_area": null,
      "grid_auto_columns": null,
      "grid_auto_flow": null,
      "grid_auto_rows": null,
      "grid_column": null,
      "grid_gap": null,
      "grid_row": null,
      "grid_template_areas": null,
      "grid_template_columns": null,
      "grid_template_rows": null,
      "height": null,
      "justify_content": null,
      "justify_items": null,
      "left": null,
      "margin": null,
      "max_height": null,
      "max_width": null,
      "min_height": null,
      "min_width": null,
      "object_fit": null,
      "object_position": null,
      "order": null,
      "overflow": null,
      "overflow_x": null,
      "overflow_y": null,
      "padding": null,
      "right": null,
      "top": null,
      "visibility": null,
      "width": null
     }
    },
    "d1fe410294fc4a0884242ff1e9d84dbc": {
     "model_module": "@jupyter-widgets/controls",
     "model_module_version": "1.5.0",
     "model_name": "ButtonStyleModel",
     "state": {
      "_model_module": "@jupyter-widgets/controls",
      "_model_module_version": "1.5.0",
      "_model_name": "ButtonStyleModel",
      "_view_count": null,
      "_view_module": "@jupyter-widgets/base",
      "_view_module_version": "1.2.0",
      "_view_name": "StyleView",
      "button_color": null,
      "font_weight": ""
     }
    },
    "e729a9f58f4c49b5bf6e68313e7cbe8c": {
     "model_module": "@jupyter-widgets/controls",
     "model_module_version": "1.5.0",
     "model_name": "FileUploadModel",
     "state": {
      "_counter": 1,
      "_dom_classes": [],
      "_model_module": "@jupyter-widgets/controls",
      "_model_module_version": "1.5.0",
      "_model_name": "FileUploadModel",
      "_view_count": null,
      "_view_module": "@jupyter-widgets/controls",
      "_view_module_version": "1.5.0",
      "_view_name": "FileUploadView",
      "accept": "*.csv",
      "button_style": "",
      "data": [
       null
      ],
      "description": "Upload",
      "description_tooltip": null,
      "disabled": false,
      "error": "",
      "icon": "upload",
      "layout": "IPY_MODEL_8d661dd99bf245a68283c05daf5654c8",
      "metadata": [
       {
        "lastModified": 1637881475842,
        "name": "dataDeployment.csv",
        "size": 339,
        "type": "text/csv"
       }
      ],
      "multiple": false,
      "style": "IPY_MODEL_d1fe410294fc4a0884242ff1e9d84dbc"
     }
    },
    "f26b10e7f8394409b68d9b6a869d948a": {
     "model_module": "@jupyter-widgets/output",
     "model_module_version": "1.0.0",
     "model_name": "OutputModel",
     "state": {
      "_dom_classes": [],
      "_model_module": "@jupyter-widgets/output",
      "_model_module_version": "1.0.0",
      "_model_name": "OutputModel",
      "_view_count": null,
      "_view_module": "@jupyter-widgets/output",
      "_view_module_version": "1.0.0",
      "_view_name": "OutputView",
      "layout": "IPY_MODEL_68d0add5c1cb4c7ba467c4c9ad2c97b8",
      "msg_id": "",
      "outputs": [
       {
        "name": "stdout",
        "output_type": "stream",
        "text": [
         "The load forecast for the next hour is 2641.03759765625.\n"
        ]
       }
      ]
     }
    }
   }
  }
 },
 "nbformat": 4,
 "nbformat_minor": 1
}
