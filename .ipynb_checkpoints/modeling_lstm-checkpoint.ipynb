{
 "cells": [
  {
   "cell_type": "markdown",
   "metadata": {
    "id": "jCwlrJ_Fz2t_"
   },
   "source": [
    "This notebook is used to test out various LSTM models where the test set is comprised of a week held out each month."
   ]
  },
  {
   "cell_type": "code",
   "execution_count": 27,
   "metadata": {
    "id": "62ITXcuzz-di"
   },
   "outputs": [],
   "source": [
    "# Libraries\n",
    "import pandas as pd\n",
    "import numpy as np\n",
    "import itertools\n",
    "import datetime as dt\n",
    "from datetime import timedelta\n",
    "import pydot\n",
    "#import pydotplus\n",
    "import graphviz\n",
    "\n",
    "import matplotlib.pyplot as plt\n",
    "from matplotlib.pyplot import figure\n",
    "import sklearn\n",
    "from sklearn.preprocessing import MinMaxScaler, StandardScaler\n",
    "from sklearn.metrics import mean_squared_error, mean_absolute_error\n",
    "\n",
    "import tensorflow as tf\n",
    "import tensorflow.keras as keras\n",
    "from tensorflow.keras import Sequential\n",
    "from tensorflow.keras.layers import Dense, LSTM\n",
    "from tensorflow.keras.optimizers import Adam\n",
    "from tensorflow.keras.models import load_model\n",
    "\n",
    "%matplotlib inline\n",
    "plt.style.use(\"seaborn\")"
   ]
  },
  {
   "cell_type": "markdown",
   "metadata": {
    "id": "BWcXYdmI0Bk0"
   },
   "source": [
    "## Read in data "
   ]
  },
  {
   "cell_type": "code",
   "execution_count": 6,
   "metadata": {
    "id": "L3S48FY40Dxy"
   },
   "outputs": [],
   "source": [
    "# Read in CSV from github repository\n",
    "connecticut = pd.read_csv(\"data/connecticutData.csv\")"
   ]
  },
  {
   "cell_type": "code",
   "execution_count": 7,
   "metadata": {},
   "outputs": [],
   "source": [
    "# Selecting variables of interest\n",
    "connecticut = connecticut[['DateTimeObj','LocalDt','Date','LoadMW','LoadMW_Plus1','OnPeak','cos_HourE','sin_HourE','TempF','Humidity']]"
   ]
  },
  {
   "cell_type": "markdown",
   "metadata": {
    "colab": {
     "base_uri": "https://localhost:8080/",
     "height": 206
    },
    "id": "WEGmZB6wifz7",
    "outputId": "75001c37-216d-4b59-85d3-4ed97e312b0e"
   },
   "source": [
    "As a reminder, my final list of potential features is thus: LoadMW, OnPeak, sin_HourE, cos_HourE, TempF, and Humidity. I will try out various combinations of said variables in my network."
   ]
  },
  {
   "cell_type": "markdown",
   "metadata": {
    "id": "0zdK8rOB0OoS"
   },
   "source": [
    "# Create train/test split"
   ]
  },
  {
   "cell_type": "markdown",
   "metadata": {
    "id": "i_MRBFVR0gwe"
   },
   "source": [
    "Due to how I need to stack the observations for the LSTM network input, I need to do some manipulation to get the correct columns for our test set. I take the indices for the observations in my test set and subtract 8 from them so that we are getting the 8 previous observations for our stacks. Note that if you change n_steps, say to 3, then you would be subtracting 2.\n",
    "\n",
    "For simplicity I create a global variable \"steps_minus1\" to easily switch between models of different step size."
   ]
  },
  {
   "cell_type": "code",
   "execution_count": 8,
   "metadata": {},
   "outputs": [],
   "source": [
    "steps_minus1 = 8"
   ]
  },
  {
   "cell_type": "code",
   "execution_count": 9,
   "metadata": {
    "id": "uRdsnZ8N0QS0"
   },
   "outputs": [],
   "source": [
    "# First let's create the set of days I want to hold out\n",
    "# This will be 12 weeks, one from each month, and in the months we have the most current data for\n",
    "\n",
    "test_dates = ['2020-11-08','2020-11-09','2020-11-10','2020-11-11','2020-11-12','2020-11-13','2020-11-14','2020-12-20','2020-12-21','2020-12-22','2020-12-23','2020-12-24','2020-12-25','2020-12-26','2021-01-24','2021-01-25','2021-01-26','2021-01-27','2021-01-28','2021-01-29','2021-01-30','2021-02-14','2021-02-15','2021-02-16','2021-02-17','2021-02-18','2021-02-19','2021-02-20','2021-03-07','2021-03-08','2021-03-09','2021-03-10','2021-03-11','2021-03-12','2021-03-13','2021-04-11','2021-04-12','2021-04-13','2021-04-14','2021-04-15','2021-04-16','2021-04-17','2021-05-23','2021-05-24','2021-05-25','2021-05-26','2021-05-27','2021-05-28','2021-05-29','2021-06-13','2021-06-14','2021-06-15','2021-06-16','2021-06-17','2021-06-18','2021-06-19','2021-07-18','2021-07-19','2021-07-20','2021-07-21','2021-07-22','2021-07-23','2021-07-24','2021-08-15','2021-08-16','2021-08-17','2021-08-18','2021-08-19','2021-08-20','2021-08-21','2021-09-05','2021-09-06','2021-09-07','2021-09-08','2021-09-09','2021-09-10','2021-09-11','2021-10-24','2021-10-25','2021-10-26','2021-10-27','2021-10-28','2021-10-29','2021-10-30']\n",
    "test_df = connecticut[connecticut['Date'].isin(test_dates)]\n",
    "\n",
    "# Get indices associated with these observations\n",
    "test_indices = list(test_df.index)\n",
    "\n",
    "# Correct for the lag due to our stacking of time obvs\n",
    "test_i = [x - steps_minus1 for x in test_indices]\n",
    "\n",
    "# Get training indices\n",
    "train_i = [x for x in list(connecticut.index) if x not in test_i]\n",
    "\n",
    "# Correct for the lag due to our stacking of time obvs\n",
    "train_i = train_i[: len(train_i) - steps_minus1]"
   ]
  },
  {
   "cell_type": "markdown",
   "metadata": {
    "id": "HJprka_h09GR"
   },
   "source": [
    "## Scale variables"
   ]
  },
  {
   "cell_type": "code",
   "execution_count": 10,
   "metadata": {
    "id": "TkXYq4ao0-Z3"
   },
   "outputs": [],
   "source": [
    "# Initialize dataframe for scaled values\n",
    "con_scaled = connecticut.copy()\n",
    "\n",
    "# Initialize scaler (here we use Min/Max)\n",
    "sc = MinMaxScaler()\n",
    "\n",
    "# Choose which quantitative and quantitative features to use\n",
    "qual_vars = [\"TempF\",'Humidity',\"LoadMW\"]\n",
    "\n",
    "# Note that the cyclical/one-hot-encoded variables are already scaled, let's define these separately\n",
    "#quan_vars = ['OnPeak','cos_HourE','sin_HourE']\n",
    "quan_vars = ['OnPeak','cos_HourE','sin_HourE']\n",
    "\n",
    "# Fit\n",
    "sc_x = StandardScaler().fit(con_scaled[qual_vars])\n",
    "sc_y = StandardScaler().fit(con_scaled[\"LoadMW_Plus1\"].values.reshape(-1,1))\n",
    "\n",
    "# Scale quantitative variables\n",
    "con_scaled[qual_vars] = sc_x.transform(con_scaled[qual_vars])\n",
    "con_scaled[\"LoadMW_Plus1\"] = sc_y.transform(con_scaled[\"LoadMW_Plus1\"].values.reshape(-1,1))"
   ]
  },
  {
   "cell_type": "code",
   "execution_count": 11,
   "metadata": {},
   "outputs": [
    {
     "data": {
      "text/html": [
       "<div>\n",
       "<style scoped>\n",
       "    .dataframe tbody tr th:only-of-type {\n",
       "        vertical-align: middle;\n",
       "    }\n",
       "\n",
       "    .dataframe tbody tr th {\n",
       "        vertical-align: top;\n",
       "    }\n",
       "\n",
       "    .dataframe thead th {\n",
       "        text-align: right;\n",
       "    }\n",
       "</style>\n",
       "<table border=\"1\" class=\"dataframe\">\n",
       "  <thead>\n",
       "    <tr style=\"text-align: right;\">\n",
       "      <th></th>\n",
       "      <th>TempF</th>\n",
       "      <th>Humidity</th>\n",
       "      <th>LoadMW</th>\n",
       "      <th>OnPeak</th>\n",
       "      <th>cos_HourE</th>\n",
       "      <th>sin_HourE</th>\n",
       "      <th>LoadMW_Plus1</th>\n",
       "    </tr>\n",
       "  </thead>\n",
       "  <tbody>\n",
       "    <tr>\n",
       "      <th>0</th>\n",
       "      <td>-1.044535</td>\n",
       "      <td>0.486836</td>\n",
       "      <td>-1.013228</td>\n",
       "      <td>0</td>\n",
       "      <td>0.965926</td>\n",
       "      <td>0.258819</td>\n",
       "      <td>-1.115085</td>\n",
       "    </tr>\n",
       "    <tr>\n",
       "      <th>1</th>\n",
       "      <td>-1.212882</td>\n",
       "      <td>0.637613</td>\n",
       "      <td>-1.115090</td>\n",
       "      <td>0</td>\n",
       "      <td>0.866025</td>\n",
       "      <td>0.500000</td>\n",
       "      <td>-1.146342</td>\n",
       "    </tr>\n",
       "    <tr>\n",
       "      <th>2</th>\n",
       "      <td>-1.321494</td>\n",
       "      <td>1.190465</td>\n",
       "      <td>-1.146347</td>\n",
       "      <td>0</td>\n",
       "      <td>0.707107</td>\n",
       "      <td>0.707107</td>\n",
       "      <td>-1.122062</td>\n",
       "    </tr>\n",
       "    <tr>\n",
       "      <th>3</th>\n",
       "      <td>-1.261757</td>\n",
       "      <td>1.140205</td>\n",
       "      <td>-1.122067</td>\n",
       "      <td>0</td>\n",
       "      <td>0.500000</td>\n",
       "      <td>0.866025</td>\n",
       "      <td>-0.990617</td>\n",
       "    </tr>\n",
       "    <tr>\n",
       "      <th>4</th>\n",
       "      <td>-1.212882</td>\n",
       "      <td>0.838650</td>\n",
       "      <td>-0.990623</td>\n",
       "      <td>0</td>\n",
       "      <td>0.258819</td>\n",
       "      <td>0.965926</td>\n",
       "      <td>-0.620562</td>\n",
       "    </tr>\n",
       "  </tbody>\n",
       "</table>\n",
       "</div>"
      ],
      "text/plain": [
       "      TempF  Humidity    LoadMW  OnPeak  cos_HourE  sin_HourE  LoadMW_Plus1\n",
       "0 -1.044535  0.486836 -1.013228       0   0.965926   0.258819     -1.115085\n",
       "1 -1.212882  0.637613 -1.115090       0   0.866025   0.500000     -1.146342\n",
       "2 -1.321494  1.190465 -1.146347       0   0.707107   0.707107     -1.122062\n",
       "3 -1.261757  1.140205 -1.122067       0   0.500000   0.866025     -0.990617\n",
       "4 -1.212882  0.838650 -0.990623       0   0.258819   0.965926     -0.620562"
      ]
     },
     "execution_count": 11,
     "metadata": {},
     "output_type": "execute_result"
    }
   ],
   "source": [
    "# Remove time objects from scaled dataframe\n",
    "con_scaled = con_scaled[list(itertools.chain(qual_vars, quan_vars, ['LoadMW_Plus1']))]\n",
    "con_scaled.head()"
   ]
  },
  {
   "cell_type": "markdown",
   "metadata": {
    "id": "0I0pZooV1S78"
   },
   "source": [
    "## Reshape data and split"
   ]
  },
  {
   "cell_type": "markdown",
   "metadata": {
    "id": "ggcX4N3u1dQD"
   },
   "source": [
    "I reshape these timeseries into multiple samples where each sample has n_steps time units for each input series, and one output corresponding to load at the next time. This process is taken from a blog post by machinelearningmastery. It requires I:\n",
    "\n",
    "(1) Turn my features/target into arrays and horizontally stack them\n",
    "\n",
    "(2) Run them through a split_sequences() function to generate samples of (n_steps, n_features) matrices with a corresponding (target) output."
   ]
  },
  {
   "cell_type": "code",
   "execution_count": 12,
   "metadata": {
    "id": "Q99ljn-h1pBC"
   },
   "outputs": [],
   "source": [
    "# Put our timeseries variables into arrays and horizontally stack them\n",
    "# This input format is necessary to be able to run through the split_sequences() function\n",
    "in_seq1 = np.array(con_scaled[\"LoadMW\"])\n",
    "in_seq2 = np.array(con_scaled[\"TempF\"])\n",
    "in_seq3 = np.array(con_scaled[\"cos_HourE\"])\n",
    "in_seq4 = np.array(con_scaled[\"sin_HourE\"])\n",
    "in_seq5 = np.array(con_scaled[\"Humidity\"])\n",
    "in_seq6 = np.array(con_scaled[\"OnPeak\"])\n",
    "out_seq = np.array(con_scaled[\"LoadMW_Plus1\"])\n",
    "\n",
    "# convert to [rows, columns] structure\n",
    "in_seq1 = in_seq1.reshape((len(in_seq1), 1))\n",
    "in_seq2 = in_seq2.reshape((len(in_seq2), 1))\n",
    "in_seq3 = in_seq3.reshape((len(in_seq3), 1)) \n",
    "in_seq4 = in_seq4.reshape((len(in_seq4), 1)) \n",
    "in_seq5 = in_seq5.reshape((len(in_seq5), 1)) \n",
    "in_seq6 = in_seq6.reshape((len(in_seq6), 1)) \n",
    "out_seq = out_seq.reshape((len(out_seq), 1))\n",
    "\n",
    "# horizontally stack columns\n",
    "dataset = np.hstack((in_seq1, in_seq2, in_seq3, in_seq4, in_seq5, in_seq6, out_seq))\n",
    "\n",
    "# The function below splits our dataset into samples of sequences of time stpes\n",
    "# It is taken from machinelearningmastery\n",
    "def split_sequences(sequences, n_steps):\n",
    "\tX, y = list(), list()\n",
    "\tfor i in range(len(sequences)):\n",
    "\t\t# find the end of this pattern\n",
    "\t\tend_ix = i + n_steps\n",
    "\t\t# check if we are beyond the dataset\n",
    "\t\tif end_ix > len(sequences):\n",
    "\t\t\tbreak\n",
    "\t\t# gather input and output parts of the pattern\n",
    "\t\tseq_x, seq_y = sequences[i:end_ix, :-1], sequences[end_ix-1, -1]\n",
    "\t\tX.append(seq_x)\n",
    "\t\ty.append(seq_y)\n",
    "\treturn np.array(X), np.array(y)\n",
    "\n",
    "# Here n = the number of time steps in each sample\n",
    "# NOTE: if changed, you MUST have the amount we subtract from the indices to find the train/test sample locations\n",
    "n_steps = steps_minus1 + 1\n",
    "X, y = split_sequences(dataset, n_steps)\n",
    "\n",
    "# Split into training/test sets\n",
    "x_train = X[train_i]\n",
    "x_test = X[test_i]\n",
    "y_train = y[train_i]\n",
    "y_test = y[test_i]"
   ]
  },
  {
   "cell_type": "code",
   "execution_count": 13,
   "metadata": {
    "colab": {
     "base_uri": "https://localhost:8080/"
    },
    "id": "G-dgIwIL10RL",
    "outputId": "46d79edd-84fb-4349-ba63-c8a14099808a"
   },
   "outputs": [
    {
     "name": "stdout",
     "output_type": "stream",
     "text": [
      "(26199, 9, 6) (26199,)\n",
      "(24351, 9, 6) (24351,)\n",
      "(1848, 9, 6) (1848,)\n"
     ]
    }
   ],
   "source": [
    "# Doing a sanity check to make sure the train/test samples are of the correct shape\n",
    "print(X.shape, y.shape)\n",
    "print(x_train.shape, y_train.shape)\n",
    "print(x_test.shape, y_test.shape)"
   ]
  },
  {
   "cell_type": "code",
   "execution_count": 14,
   "metadata": {},
   "outputs": [
    {
     "name": "stdout",
     "output_type": "stream",
     "text": [
      "Input:\n",
      "[-1.11509049 -1.21288224  0.8660254   0.5         0.6376133   0.        ]\n",
      "[-1.14634693 -1.32149365  0.70710678  0.70710678  1.19046465  0.        ]\n",
      "[-1.12206738 -1.26175738  0.5         0.8660254   1.14020544  0.        ]\n",
      "[-0.99062288 -1.21288224  0.25881905  0.96592583  0.83865016  0.        ]\n",
      "[-0.62056895 -1.15314596  0.          1.          0.9894278   0.        ]\n",
      "[ 0.02772313 -1.09340968 -0.25881905  0.96592583  0.93916858  0.        ]\n",
      "[ 0.38800942 -0.93592313 -0.5         0.8660254   0.68787252  1.        ]\n",
      "[ 0.4160565  -0.66439459 -0.70710678  0.70710678 -0.01575647  1.        ]\n",
      "[ 0.35159009 -0.60465832 -0.8660254   0.5        -0.1665341   1.        ]\n",
      "\n",
      "Output:\n",
      "0.3198\n"
     ]
    }
   ],
   "source": [
    "# Taking a look at one input/output sample\n",
    "print(\"Input:\")\n",
    "print(*np.round(x_train[1],10), sep='\\n')\n",
    "print(\"\\nOutput:\")\n",
    "print(np.round(y_train[1],4))"
   ]
  },
  {
   "cell_type": "markdown",
   "metadata": {
    "id": "hvy3rNz33reK"
   },
   "source": [
    "## Create LSTM Model"
   ]
  },
  {
   "cell_type": "code",
   "execution_count": 22,
   "metadata": {
    "id": "BLW1tqSo3bnA"
   },
   "outputs": [
    {
     "name": "stdout",
     "output_type": "stream",
     "text": [
      "Epoch 1/5\n",
      "2436/2436 - 27s - loss: 0.0277 - mse: 0.0277 - mae: 0.1037 - val_loss: 0.0034 - val_mse: 0.0034 - val_mae: 0.0439\n",
      "Epoch 2/5\n",
      "2436/2436 - 28s - loss: 0.0056 - mse: 0.0056 - mae: 0.0558 - val_loss: 0.0036 - val_mse: 0.0036 - val_mae: 0.0464\n",
      "Epoch 3/5\n",
      "2436/2436 - 29s - loss: 0.0047 - mse: 0.0047 - mae: 0.0504 - val_loss: 0.0034 - val_mse: 0.0034 - val_mae: 0.0443\n",
      "Epoch 4/5\n",
      "2436/2436 - 26s - loss: 0.0041 - mse: 0.0041 - mae: 0.0473 - val_loss: 0.0031 - val_mse: 0.0031 - val_mae: 0.0423\n",
      "Epoch 5/5\n",
      "2436/2436 - 26s - loss: 0.0038 - mse: 0.0038 - mae: 0.0445 - val_loss: 0.0021 - val_mse: 0.0021 - val_mae: 0.0337\n"
     ]
    }
   ],
   "source": [
    "# Create architecture\n",
    "\n",
    "n_features = x_train.shape[2]\n",
    "\n",
    "# Define layers & add to model\n",
    "layer1 = LSTM(100, input_shape=(n_steps, n_features), activation='relu', return_sequences=True)\n",
    "layer2 = LSTM(100,activation='relu')\n",
    "output = Dense(1)\n",
    "layers_lstm = [layer1,layer2,output]\n",
    "\n",
    "model = Sequential()\n",
    "for layer in layers_lstm:\n",
    "  model.add(layer)\n",
    "\n",
    "# Define hyperparameters\n",
    "loss = 'mse'\n",
    "op = 'adam'\n",
    "metrics = ['mse','mae']\n",
    "size = 10\n",
    "n_epochs = 5\n",
    "\n",
    "model.compile(loss=loss, optimizer=op, metrics=metrics)\n",
    "history_lstm = model.fit(x_train, y_train,\n",
    "                            validation_data=(x_test, y_test),\n",
    "                            batch_size=size, epochs=n_epochs, verbose = 1)  "
   ]
  },
  {
   "cell_type": "code",
   "execution_count": 12,
   "metadata": {
    "id": "FT2OqxvyrBA7"
   },
   "outputs": [],
   "source": [
    "# Save model for deployment\n",
    "#model.save(\"loadFcastLSTM.h5\")"
   ]
  },
  {
   "cell_type": "markdown",
   "metadata": {
    "id": "PksurXL3TR27"
   },
   "source": [
    "Plotting the training/test set loss vs. epoch to check for convergence. "
   ]
  },
  {
   "cell_type": "code",
   "execution_count": 23,
   "metadata": {
    "colab": {
     "base_uri": "https://localhost:8080/",
     "height": 368
    },
    "id": "pJhIJJpg7rh6",
    "outputId": "4f6d9404-9e1a-4b5e-e9b9-c007dac7b39c"
   },
   "outputs": [
    {
     "name": "stdout",
     "output_type": "stream",
     "text": [
      "Training loss on the final epoch was: 0.0038\n",
      "58/58 [==============================] - 0s 3ms/step - loss: 0.0021 - mse: 0.0021 - mae: 0.0337\n",
      "MSE on unscaled data is: 1084.7906399260012\n",
      "MAE on unscaled data is: 24.159794195265995\n"
     ]
    },
    {
     "data": {
      "image/png": "[encoded data removed]",
      "text/plain": [
       "<Figure size 864x288 with 2 Axes>"
      ]
     },
     "metadata": {},
     "output_type": "display_data"
    }
   ],
   "source": [
    "plt.figure(figsize=(12, 4))\n",
    "plt.subplot(1, 2, 1)\n",
    "plt.plot(np.arange(1, n_epochs+1), history_lstm.history['loss'], color = 'olivedrab')\n",
    "plt.title('Training set loss', fontdict = {'fontsize' : 16})\n",
    "plt.xlabel('Epoch', fontdict = {'fontsize' : 14})\n",
    "plt.ylabel('Loss', fontdict = {'fontsize' : 14})\n",
    "\n",
    "plt.subplot(1, 2, 2)\n",
    "plt.plot(np.arange(1, n_epochs+1), history_lstm.history['val_loss'], color='olivedrab')\n",
    "plt.title('Test set loss', fontdict = {'fontsize' : 16})\n",
    "plt.xlabel('Epoch', fontdict = {'fontsize' : 14})\n",
    "plt.ylabel('Loss', fontdict = {'fontsize' : 14})\n",
    "#plt.savefig('figures/epoch_loss.eps', format='eps')\n",
    "\n",
    "print(f\"Training loss on the final epoch was: {history_lstm.history['loss'][-1]:0.4f}\")\n",
    "\n",
    "# Here we can evaluate how our model does based on the test data\n",
    "model.evaluate(x_test, y_test)\n",
    "\n",
    "# Looking at the predictions\n",
    "yhat = model.predict(x_test, verbose=0)\n",
    "predictions = sc_y.inverse_transform(yhat)\n",
    "y_test_unsc = sc_y.inverse_transform(y_test.reshape(-1,1))\n",
    "\n",
    "print(f\"MSE on unscaled data is: {mean_squared_error(y_test_unsc,predictions)}\")\n",
    "print(f\"MAE on unscaled data is: {mean_absolute_error(y_test_unsc,predictions)}\")"
   ]
  },
  {
   "cell_type": "code",
   "execution_count": 16,
   "metadata": {},
   "outputs": [
    {
     "name": "stdout",
     "output_type": "stream",
     "text": [
      "Model: \"sequential\"\n",
      "_________________________________________________________________\n",
      "Layer (type)                 Output Shape              Param #   \n",
      "=================================================================\n",
      "lstm (LSTM)                  (None, 9, 100)            42800     \n",
      "_________________________________________________________________\n",
      "lstm_1 (LSTM)                (None, 100)               80400     \n",
      "_________________________________________________________________\n",
      "dense (Dense)                (None, 1)                 101       \n",
      "=================================================================\n",
      "Total params: 123,301\n",
      "Trainable params: 123,301\n",
      "Non-trainable params: 0\n",
      "_________________________________________________________________\n"
     ]
    }
   ],
   "source": [
    "model.summary()"
   ]
  },
  {
   "cell_type": "markdown",
   "metadata": {
    "id": "FcETjYjrTX8l"
   },
   "source": [
    "Creating a diagram of the model for presentation purposes."
   ]
  },
  {
   "cell_type": "code",
   "execution_count": 31,
   "metadata": {
    "colab": {
     "base_uri": "https://localhost:8080/",
     "height": 422
    },
    "id": "w6FYPpx_-VWP",
    "outputId": "3790d66c-036c-4799-ac19-6fa32b2ab333"
   },
   "outputs": [],
   "source": [
    "#tf.keras.utils.plot_model(model, show_shapes=True, show_layer_names=True)"
   ]
  },
  {
   "cell_type": "markdown",
   "metadata": {
    "id": "cszYkXHUBC13"
   },
   "source": [
    "## Creating actual vs. forecast plots for selected test set days"
   ]
  },
  {
   "cell_type": "code",
   "execution_count": 70,
   "metadata": {
    "colab": {
     "base_uri": "https://localhost:8080/",
     "height": 206
    },
    "id": "R5uo0KBAKnKr",
    "outputId": "176e9536-98d3-4784-82f1-a9d690608bb5"
   },
   "outputs": [
    {
     "data": {
      "text/html": [
       "<div>\n",
       "<style scoped>\n",
       "    .dataframe tbody tr th:only-of-type {\n",
       "        vertical-align: middle;\n",
       "    }\n",
       "\n",
       "    .dataframe tbody tr th {\n",
       "        vertical-align: top;\n",
       "    }\n",
       "\n",
       "    .dataframe thead th {\n",
       "        text-align: right;\n",
       "    }\n",
       "</style>\n",
       "<table border=\"1\" class=\"dataframe\">\n",
       "  <thead>\n",
       "    <tr style=\"text-align: right;\">\n",
       "      <th></th>\n",
       "      <th>Date</th>\n",
       "      <th>LocalDt</th>\n",
       "      <th>LoadMW_Plus1</th>\n",
       "      <th>y_hat</th>\n",
       "    </tr>\n",
       "  </thead>\n",
       "  <tbody>\n",
       "    <tr>\n",
       "      <th>17897</th>\n",
       "      <td>2020-11-07</td>\n",
       "      <td>11/7/2020 16:00</td>\n",
       "      <td>3100.8</td>\n",
       "      <td>2026.971680</td>\n",
       "    </tr>\n",
       "    <tr>\n",
       "      <th>17898</th>\n",
       "      <td>2020-11-07</td>\n",
       "      <td>11/7/2020 17:00</td>\n",
       "      <td>3035.1</td>\n",
       "      <td>1970.155396</td>\n",
       "    </tr>\n",
       "    <tr>\n",
       "      <th>17899</th>\n",
       "      <td>2020-11-07</td>\n",
       "      <td>11/7/2020 18:00</td>\n",
       "      <td>2909.5</td>\n",
       "      <td>1961.689453</td>\n",
       "    </tr>\n",
       "    <tr>\n",
       "      <th>17900</th>\n",
       "      <td>2020-11-07</td>\n",
       "      <td>11/7/2020 19:00</td>\n",
       "      <td>2750.9</td>\n",
       "      <td>1996.581421</td>\n",
       "    </tr>\n",
       "    <tr>\n",
       "      <th>17901</th>\n",
       "      <td>2020-11-07</td>\n",
       "      <td>11/7/2020 20:00</td>\n",
       "      <td>2609.2</td>\n",
       "      <td>2077.349365</td>\n",
       "    </tr>\n",
       "  </tbody>\n",
       "</table>\n",
       "</div>"
      ],
      "text/plain": [
       "             Date          LocalDt  LoadMW_Plus1        y_hat\n",
       "17897  2020-11-07  11/7/2020 16:00        3100.8  2026.971680\n",
       "17898  2020-11-07  11/7/2020 17:00        3035.1  1970.155396\n",
       "17899  2020-11-07  11/7/2020 18:00        2909.5  1961.689453\n",
       "17900  2020-11-07  11/7/2020 19:00        2750.9  1996.581421\n",
       "17901  2020-11-07  11/7/2020 20:00        2609.2  2077.349365"
      ]
     },
     "execution_count": 70,
     "metadata": {},
     "output_type": "execute_result"
    }
   ],
   "source": [
    "# Intialize \n",
    "pred_df = connecticut[[\"Date\",\"LocalDt\",\"LoadMW_Plus1\"]].iloc[test_i] # Get dates with same indices as in our test dataset\n",
    "pred_df[\"y_hat\"] = predictions\n",
    "pred_df.head()"
   ]
  },
  {
   "cell_type": "code",
   "execution_count": 71,
   "metadata": {
    "colab": {
     "base_uri": "https://localhost:8080/",
     "height": 621
    },
    "id": "YyHN4T_1BETw",
    "outputId": "a190cb83-8ac3-435c-8735-4c4183d20377"
   },
   "outputs": [
    {
     "name": "stderr",
     "output_type": "stream",
     "text": [
      "/var/folders/tc/ky0xv15j47z6fxhf6cykcv040000gn/T/ipykernel_1248/1373953977.py:12: SettingWithCopyWarning: \n",
      "A value is trying to be set on a copy of a slice from a DataFrame.\n",
      "Try using .loc[row_indexer,col_indexer] = value instead\n",
      "\n",
      "See the caveats in the documentation: https://pandas.pydata.org/pandas-docs/stable/user_guide/indexing.html#returning-a-view-versus-a-copy\n",
      "  chart_data[\"RealTime\"] = chart_data[\"LocalDt\"].apply(\n"
     ]
    },
    {
     "data": {
      "image/png": "[encoded data removed]",
      "text/plain": [
       "<Figure size 1200x500 with 2 Axes>"
      ]
     },
     "metadata": {},
     "output_type": "display_data"
    }
   ],
   "source": [
    "# Intialize \n",
    "pred_df = connecticut[[\"Date\",\"LocalDt\",\"LoadMW_Plus1\"]].iloc[test_indices] # Get dates with same indices as in our test dataset\n",
    "pred_df[\"y_hat\"] = predictions\n",
    "\n",
    "test_dates = ['2021-03-07','2021-03-08','2021-03-09','2021-03-10','2021-03-11','2021-03-12','2021-03-13']\n",
    "firstweek = pred_df[pred_df[\"Date\"].isin(test_dates)]\n",
    "firstweek\n",
    "\n",
    "chart_data = firstweek\n",
    "chart_data.dtypes\n",
    "\n",
    "chart_data[\"RealTime\"] = chart_data[\"LocalDt\"].apply(\n",
    "    lambda x: dt.datetime.strptime(x, \"%m/%d/%Y %H:%M\") - timedelta(hours=1)\n",
    ")\n",
    "chart_data = chart_data.sort_values([\"RealTime\"], ascending=True)\n",
    "\n",
    "chart_data = chart_data.set_index(pd.to_datetime(chart_data.RealTime), drop=True)\n",
    "\n",
    "\n",
    "# Plot\n",
    "plt.style.use(\"default\")\n",
    "\n",
    "plt.figure(figsize=(12,5))\n",
    "plt.xticks(fontsize=24)\n",
    "\n",
    "ax1 = chart_data.y_hat.plot(color='blue', grid=False, label=\"1-Hour-Ahead Load Forecast (MW)\")\n",
    "ax1.set_ylim([2000, 4500])\n",
    "plt.yticks(fontsize=12)\n",
    "ax2 = chart_data.LoadMW_Plus1.plot(color='red', grid=False, secondary_y=True, label=\"Actual Load (MW)\")\n",
    "ax2.set_ylim([2000, 4500])\n",
    "plt.yticks(fontsize=12)\n",
    "\n",
    "h1, l1 = ax1.get_legend_handles_labels()\n",
    "h2, l2 = ax2.get_legend_handles_labels()\n",
    "plt.title('Actual Load vs. 1-Hour-Ahead Forecast (Week of 3/7/21-3/13/21)')\n",
    "\n",
    "plt.legend(h1+h2, l1+l2, loc=2)\n",
    "\n",
    "plt.show()"
   ]
  },
  {
   "cell_type": "code",
   "execution_count": null,
   "metadata": {},
   "outputs": [],
   "source": []
  }
 ],
 "metadata": {
  "colab": {
   "collapsed_sections": [],
   "name": "modeling_lstm.ipynb",
   "provenance": []
  },
  "kernelspec": {
   "display_name": "Python 3 (ipykernel)",
   "language": "python",
   "name": "python3"
  },
  "language_info": {
   "codemirror_mode": {
    "name": "ipython",
    "version": 3
   },
   "file_extension": ".py",
   "mimetype": "text/x-python",
   "name": "python",
   "nbconvert_exporter": "python",
   "pygments_lexer": "ipython3",
   "version": "3.8.12"
  }
 },
 "nbformat": 4,
 "nbformat_minor": 1
}
