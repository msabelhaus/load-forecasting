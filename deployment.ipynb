{
  "nbformat": 4,
  "nbformat_minor": 0,
  "metadata": {
    "colab": {
      "name": "deployment.ipynb",
      "provenance": [],
      "collapsed_sections": []
    },
    "kernelspec": {
      "name": "python3",
      "display_name": "Python 3"
    },
    "language_info": {
      "name": "python"
    },
    "widgets": {
      "application/vnd.jupyter.widget-state+json": {
        "608f18d4eb0a4ab5a8eab484e57463b6": {
          "model_module": "@jupyter-widgets/controls",
          "model_name": "LabelModel",
          "model_module_version": "1.5.0",
          "state": {
            "_view_name": "LabelView",
            "style": "IPY_MODEL_6afa8b6b0760433d90308b3fc103e1d2",
            "_dom_classes": [],
            "description": "",
            "_model_name": "LabelModel",
            "placeholder": "​",
            "_view_module": "@jupyter-widgets/controls",
            "_model_module_version": "1.5.0",
            "value": "Please upload a single csv below.",
            "_view_count": null,
            "_view_module_version": "1.5.0",
            "description_tooltip": null,
            "_model_module": "@jupyter-widgets/controls",
            "layout": "IPY_MODEL_949a312e3a9444398344d250f3539a8f"
          }
        },
        "6afa8b6b0760433d90308b3fc103e1d2": {
          "model_module": "@jupyter-widgets/controls",
          "model_name": "DescriptionStyleModel",
          "model_module_version": "1.5.0",
          "state": {
            "_view_name": "StyleView",
            "_model_name": "DescriptionStyleModel",
            "description_width": "",
            "_view_module": "@jupyter-widgets/base",
            "_model_module_version": "1.5.0",
            "_view_count": null,
            "_view_module_version": "1.2.0",
            "_model_module": "@jupyter-widgets/controls"
          }
        },
        "949a312e3a9444398344d250f3539a8f": {
          "model_module": "@jupyter-widgets/base",
          "model_name": "LayoutModel",
          "model_module_version": "1.2.0",
          "state": {
            "_view_name": "LayoutView",
            "grid_template_rows": null,
            "right": null,
            "justify_content": null,
            "_view_module": "@jupyter-widgets/base",
            "overflow": null,
            "_model_module_version": "1.2.0",
            "_view_count": null,
            "flex_flow": null,
            "width": null,
            "min_width": null,
            "border": null,
            "align_items": null,
            "bottom": null,
            "_model_module": "@jupyter-widgets/base",
            "top": null,
            "grid_column": null,
            "overflow_y": null,
            "overflow_x": null,
            "grid_auto_flow": null,
            "grid_area": null,
            "grid_template_columns": null,
            "flex": null,
            "_model_name": "LayoutModel",
            "justify_items": null,
            "grid_row": null,
            "max_height": null,
            "align_content": null,
            "visibility": null,
            "align_self": null,
            "height": null,
            "min_height": null,
            "padding": null,
            "grid_auto_rows": null,
            "grid_gap": null,
            "max_width": null,
            "order": null,
            "_view_module_version": "1.2.0",
            "grid_template_areas": null,
            "object_position": null,
            "object_fit": null,
            "grid_auto_columns": null,
            "margin": null,
            "display": null,
            "left": null
          }
        },
        "e729a9f58f4c49b5bf6e68313e7cbe8c": {
          "model_module": "@jupyter-widgets/controls",
          "model_name": "FileUploadModel",
          "model_module_version": "1.5.0",
          "state": {
            "_view_name": "FileUploadView",
            "_counter": 1,
            "style": "IPY_MODEL_d1fe410294fc4a0884242ff1e9d84dbc",
            "_dom_classes": [],
            "description": "Upload",
            "multiple": false,
            "_model_name": "FileUploadModel",
            "data": [
              null
            ],
            "button_style": "",
            "_view_module": "@jupyter-widgets/controls",
            "_model_module_version": "1.5.0",
            "accept": "*.csv",
            "_view_count": null,
            "disabled": false,
            "_view_module_version": "1.5.0",
            "error": "",
            "description_tooltip": null,
            "metadata": [
              {
                "name": "dataDeployment.csv",
                "type": "text/csv",
                "size": 339,
                "lastModified": 1637881475842
              }
            ],
            "_model_module": "@jupyter-widgets/controls",
            "layout": "IPY_MODEL_8d661dd99bf245a68283c05daf5654c8",
            "icon": "upload"
          }
        },
        "d1fe410294fc4a0884242ff1e9d84dbc": {
          "model_module": "@jupyter-widgets/controls",
          "model_name": "ButtonStyleModel",
          "model_module_version": "1.5.0",
          "state": {
            "_view_name": "StyleView",
            "_model_name": "ButtonStyleModel",
            "_view_module": "@jupyter-widgets/base",
            "_model_module_version": "1.5.0",
            "_view_count": null,
            "button_color": null,
            "font_weight": "",
            "_view_module_version": "1.2.0",
            "_model_module": "@jupyter-widgets/controls"
          }
        },
        "8d661dd99bf245a68283c05daf5654c8": {
          "model_module": "@jupyter-widgets/base",
          "model_name": "LayoutModel",
          "model_module_version": "1.2.0",
          "state": {
            "_view_name": "LayoutView",
            "grid_template_rows": null,
            "right": null,
            "justify_content": null,
            "_view_module": "@jupyter-widgets/base",
            "overflow": null,
            "_model_module_version": "1.2.0",
            "_view_count": null,
            "flex_flow": null,
            "width": null,
            "min_width": null,
            "border": null,
            "align_items": null,
            "bottom": null,
            "_model_module": "@jupyter-widgets/base",
            "top": null,
            "grid_column": null,
            "overflow_y": null,
            "overflow_x": null,
            "grid_auto_flow": null,
            "grid_area": null,
            "grid_template_columns": null,
            "flex": null,
            "_model_name": "LayoutModel",
            "justify_items": null,
            "grid_row": null,
            "max_height": null,
            "align_content": null,
            "visibility": null,
            "align_self": null,
            "height": null,
            "min_height": null,
            "padding": null,
            "grid_auto_rows": null,
            "grid_gap": null,
            "max_width": null,
            "order": null,
            "_view_module_version": "1.2.0",
            "grid_template_areas": null,
            "object_position": null,
            "object_fit": null,
            "grid_auto_columns": null,
            "margin": null,
            "display": null,
            "left": null
          }
        },
        "4fd91b86618d4ebd93c778a02961cbcc": {
          "model_module": "@jupyter-widgets/controls",
          "model_name": "ButtonModel",
          "model_module_version": "1.5.0",
          "state": {
            "_view_name": "ButtonView",
            "style": "IPY_MODEL_6295c48893bd48ef9afc74ee4334a3db",
            "_dom_classes": [],
            "description": "Predict!",
            "_model_name": "ButtonModel",
            "button_style": "",
            "_view_module": "@jupyter-widgets/controls",
            "_model_module_version": "1.5.0",
            "tooltip": "",
            "_view_count": null,
            "disabled": false,
            "_view_module_version": "1.5.0",
            "layout": "IPY_MODEL_6878c5cc75fa49448cac7ae1fbf9f8ce",
            "_model_module": "@jupyter-widgets/controls",
            "icon": ""
          }
        },
        "6295c48893bd48ef9afc74ee4334a3db": {
          "model_module": "@jupyter-widgets/controls",
          "model_name": "ButtonStyleModel",
          "model_module_version": "1.5.0",
          "state": {
            "_view_name": "StyleView",
            "_model_name": "ButtonStyleModel",
            "_view_module": "@jupyter-widgets/base",
            "_model_module_version": "1.5.0",
            "_view_count": null,
            "button_color": null,
            "font_weight": "",
            "_view_module_version": "1.2.0",
            "_model_module": "@jupyter-widgets/controls"
          }
        },
        "6878c5cc75fa49448cac7ae1fbf9f8ce": {
          "model_module": "@jupyter-widgets/base",
          "model_name": "LayoutModel",
          "model_module_version": "1.2.0",
          "state": {
            "_view_name": "LayoutView",
            "grid_template_rows": null,
            "right": null,
            "justify_content": null,
            "_view_module": "@jupyter-widgets/base",
            "overflow": null,
            "_model_module_version": "1.2.0",
            "_view_count": null,
            "flex_flow": null,
            "width": null,
            "min_width": null,
            "border": null,
            "align_items": null,
            "bottom": null,
            "_model_module": "@jupyter-widgets/base",
            "top": null,
            "grid_column": null,
            "overflow_y": null,
            "overflow_x": null,
            "grid_auto_flow": null,
            "grid_area": null,
            "grid_template_columns": null,
            "flex": null,
            "_model_name": "LayoutModel",
            "justify_items": null,
            "grid_row": null,
            "max_height": null,
            "align_content": null,
            "visibility": null,
            "align_self": null,
            "height": null,
            "min_height": null,
            "padding": null,
            "grid_auto_rows": null,
            "grid_gap": null,
            "max_width": null,
            "order": null,
            "_view_module_version": "1.2.0",
            "grid_template_areas": null,
            "object_position": null,
            "object_fit": null,
            "grid_auto_columns": null,
            "margin": null,
            "display": null,
            "left": null
          }
        },
        "f26b10e7f8394409b68d9b6a869d948a": {
          "model_module": "@jupyter-widgets/output",
          "model_name": "OutputModel",
          "model_module_version": "1.0.0",
          "state": {
            "_view_name": "OutputView",
            "msg_id": "",
            "_dom_classes": [],
            "_model_name": "OutputModel",
            "outputs": [
              {
                "output_type": "stream",
                "name": "stdout",
                "text": [
                  "The load forecast for the next hour is 2641.03759765625.\n"
                ]
              }
            ],
            "_view_module": "@jupyter-widgets/output",
            "_model_module_version": "1.0.0",
            "_view_count": null,
            "_view_module_version": "1.0.0",
            "layout": "IPY_MODEL_68d0add5c1cb4c7ba467c4c9ad2c97b8",
            "_model_module": "@jupyter-widgets/output"
          }
        },
        "68d0add5c1cb4c7ba467c4c9ad2c97b8": {
          "model_module": "@jupyter-widgets/base",
          "model_name": "LayoutModel",
          "model_module_version": "1.2.0",
          "state": {
            "_view_name": "LayoutView",
            "grid_template_rows": null,
            "right": null,
            "justify_content": null,
            "_view_module": "@jupyter-widgets/base",
            "overflow": null,
            "_model_module_version": "1.2.0",
            "_view_count": null,
            "flex_flow": null,
            "width": null,
            "min_width": null,
            "border": null,
            "align_items": null,
            "bottom": null,
            "_model_module": "@jupyter-widgets/base",
            "top": null,
            "grid_column": null,
            "overflow_y": null,
            "overflow_x": null,
            "grid_auto_flow": null,
            "grid_area": null,
            "grid_template_columns": null,
            "flex": null,
            "_model_name": "LayoutModel",
            "justify_items": null,
            "grid_row": null,
            "max_height": null,
            "align_content": null,
            "visibility": null,
            "align_self": null,
            "height": null,
            "min_height": null,
            "padding": null,
            "grid_auto_rows": null,
            "grid_gap": null,
            "max_width": null,
            "order": null,
            "_view_module_version": "1.2.0",
            "grid_template_areas": null,
            "object_position": null,
            "object_fit": null,
            "grid_auto_columns": null,
            "margin": null,
            "display": null,
            "left": null
          }
        }
      }
    }
  },
  "cells": [
    {
      "cell_type": "code",
      "metadata": {
        "id": "fXnWf9mLwMhv"
      },
      "source": [
        "# Libraries\n",
        "import pandas as pd\n",
        "import numpy as np\n",
        "import time\n",
        "import datetime as dt\n",
        "from datetime import timedelta\n",
        "import matplotlib.pyplot as plt\n",
        "from matplotlib.pyplot import figure\n",
        "from sklearn.model_selection import train_test_split\n",
        "from sklearn.preprocessing import StandardScaler\n",
        "from sklearn.preprocessing import MinMaxScaler\n",
        "from sklearn.metrics import mean_squared_error\n",
        "from sklearn.metrics import mean_absolute_error\n",
        "from sklearn import linear_model\n",
        "import sys\n",
        "from keras.layers import Bidirectional\n",
        "import io\n",
        "import cv2\n",
        "from ipywidgets import FileUpload, Label, Image, Button, Output\n",
        "\n",
        "import tensorflow as tf\n",
        "import tensorflow.keras as keras\n",
        "from tensorflow.keras.models import load_model"
      ],
      "execution_count": 55,
      "outputs": []
    },
    {
      "cell_type": "code",
      "metadata": {
        "colab": {
          "base_uri": "https://localhost:8080/"
        },
        "id": "xCJHd0vlx_Cy",
        "outputId": "25b05766-ebe7-49c6-e770-6308ecdf6818"
      },
      "source": [
        "!git clone https://github.com/msabelhaus/load-forecasting.git"
      ],
      "execution_count": 56,
      "outputs": [
        {
          "output_type": "stream",
          "name": "stdout",
          "text": [
            "fatal: destination path 'load-forecasting' already exists and is not an empty directory.\n"
          ]
        }
      ]
    },
    {
      "cell_type": "code",
      "metadata": {
        "id": "7HShTaVgbDUs"
      },
      "source": [
        "lstm_model = load_model('load-forecasting/loadFcastLSTM.h5')"
      ],
      "execution_count": 57,
      "outputs": []
    },
    {
      "cell_type": "code",
      "metadata": {
        "colab": {
          "base_uri": "https://localhost:8080/",
          "height": 81,
          "referenced_widgets": [
            "608f18d4eb0a4ab5a8eab484e57463b6",
            "6afa8b6b0760433d90308b3fc103e1d2",
            "949a312e3a9444398344d250f3539a8f",
            "e729a9f58f4c49b5bf6e68313e7cbe8c",
            "d1fe410294fc4a0884242ff1e9d84dbc",
            "8d661dd99bf245a68283c05daf5654c8"
          ]
        },
        "id": "O043GAT3wYqY",
        "outputId": "2db46594-c190-465b-8e09-48d9aead0a34"
      },
      "source": [
        "# Upload CSV\n",
        "csv_upload = FileUpload(accept='*.csv', multiple=False)\n",
        "csv_label = Label(value = \"Please upload a single csv below.\")\n",
        "\n",
        "display(csv_label, csv_upload)"
      ],
      "execution_count": 58,
      "outputs": [
        {
          "output_type": "display_data",
          "data": {
            "application/vnd.jupyter.widget-view+json": {
              "model_id": "608f18d4eb0a4ab5a8eab484e57463b6",
              "version_minor": 0,
              "version_major": 2
            },
            "text/plain": [
              "Label(value='Please upload a single csv below.')"
            ]
          },
          "metadata": {}
        },
        {
          "output_type": "display_data",
          "data": {
            "application/vnd.jupyter.widget-view+json": {
              "model_id": "e729a9f58f4c49b5bf6e68313e7cbe8c",
              "version_minor": 0,
              "version_major": 2
            },
            "text/plain": [
              "FileUpload(value={}, accept='*.csv', description='Upload')"
            ]
          },
          "metadata": {}
        }
      ]
    },
    {
      "cell_type": "code",
      "metadata": {
        "id": "Dn9yiTBVwu8s"
      },
      "source": [
        "input_file = list(csv_upload.value.values())[0]\n",
        "content = input_file['content']\n",
        "content = io.StringIO(content.decode('utf-8'))\n",
        "df = pd.read_csv(content)\n",
        "\n",
        "predict_button = Button(description=\"Predict!\")\n",
        "result = Output()"
      ],
      "execution_count": 61,
      "outputs": []
    },
    {
      "cell_type": "code",
      "metadata": {
        "id": "cEY2hy7kz12Z"
      },
      "source": [
        "LoadMW_Plus1 = df[\"LoadMW\"].shift(periods=-1)\n",
        "LoadMW_Plus1.name = 'LoadMW_Plus1'\n",
        "df = pd.concat([df, LoadMW_Plus1], axis=1)"
      ],
      "execution_count": 62,
      "outputs": []
    },
    {
      "cell_type": "code",
      "metadata": {
        "colab": {
          "base_uri": "https://localhost:8080/"
        },
        "id": "m6spQDx_Xz5h",
        "outputId": "fc754c18-852d-4034-a1a0-be5dab3a3068"
      },
      "source": [
        "null_index = df['LoadMW_Plus1'].isnull()\n",
        "null_index"
      ],
      "execution_count": 63,
      "outputs": [
        {
          "output_type": "execute_result",
          "data": {
            "text/plain": [
              "0    False\n",
              "1    False\n",
              "2    False\n",
              "3    False\n",
              "4    False\n",
              "5    False\n",
              "6    False\n",
              "7    False\n",
              "8    False\n",
              "9     True\n",
              "Name: LoadMW_Plus1, dtype: bool"
            ]
          },
          "metadata": {},
          "execution_count": 63
        }
      ]
    },
    {
      "cell_type": "code",
      "metadata": {
        "id": "F0q5Az7rwokY"
      },
      "source": [
        "def predict(button_info):\n",
        "    try:\n",
        "        df_scaled = df.copy()\n",
        "\n",
        "        # Initialize scaler (here we use Min/Max)\n",
        "        sc = MinMaxScaler()\n",
        "\n",
        "        # Fit\n",
        "        sc_x = StandardScaler().fit(df_scaled[[\"TempF\",\"LoadMW\"]])\n",
        "        sc_y = StandardScaler().fit(df_scaled.loc[~null_index, ['LoadMW_Plus1']].values.reshape(-1,1))\n",
        "\n",
        "        # Scale numerical variables\n",
        "        df_scaled[[\"TempF\",\"LoadMW\"]] = sc_x.transform(df_scaled[[\"TempF\",\"LoadMW\"]])\n",
        "        df_scaled.loc[~null_index, [\"LoadMW_Plus1\"]] = sc_y.transform(df_scaled.loc[~null_index, ['LoadMW_Plus1']].values.reshape(-1,1))\n",
        "\n",
        "        # Remove time objects from scaled dataframe\n",
        "        df_scaled = df_scaled[[\"Peak_Plus1\",\"TempF\",\"LoadMW\",\"LoadMW_Plus1\"]]\n",
        "\n",
        "        # Reshape dataframe \n",
        "        # Put our timeseries variables into arrays and horizontally stack them\n",
        "        # This input format is necessary to be able to run through the split_sequences() function\n",
        "        in_seq1 = np.array(df_scaled[\"LoadMW\"])\n",
        "        in_seq2 = np.array(df_scaled[\"TempF\"])\n",
        "        in_seq3 = np.array(df_scaled[\"Peak_Plus1\"])\n",
        "        out_seq = np.array(df_scaled[\"LoadMW_Plus1\"])\n",
        "\n",
        "        # convert to [rows, columns] structure\n",
        "        in_seq1 = in_seq1.reshape((len(in_seq1), 1))\n",
        "        in_seq2 = in_seq2.reshape((len(in_seq2), 1))\n",
        "        in_seq3 = in_seq3.reshape((len(in_seq3), 1)) \n",
        "        out_seq = out_seq.reshape((len(out_seq), 1))\n",
        "\n",
        "        # horizontally stack columns\n",
        "        dataset = np.hstack((in_seq1, in_seq2, in_seq3, out_seq))\n",
        "\n",
        "        # The function below splits our dataset into samples of sequences of time stpes\n",
        "        # It is taken from machinelearningmastery\n",
        "        def split_sequences(sequences, n_steps):\n",
        "          X, y = list(), list()\n",
        "          for i in range(len(sequences)):\n",
        "            # find the end of this pattern\n",
        "            end_ix = i + n_steps\n",
        "            # check if we are beyond the dataset\n",
        "            if end_ix > len(sequences):\n",
        "              break\n",
        "            # gather input and output parts of the pattern\n",
        "            seq_x, seq_y = sequences[i:end_ix, :-1], sequences[end_ix-1, -1]\n",
        "            X.append(seq_x)\n",
        "            y.append(seq_y)\n",
        "          return np.array(X), np.array(y)\n",
        "\n",
        "\n",
        "        X, y = split_sequences(dataset, 9)\n",
        "\n",
        "        prediction = sc_y.inverse_transform(lstm_model.predict(X[1].reshape(1,9,3))).item()\n",
        "\n",
        "        with result:\n",
        "            print(f\"The load forecast for the next hour is {prediction}.\")\n",
        "    except Exception as e:\n",
        "        with result:\n",
        "            print(e)"
      ],
      "execution_count": 64,
      "outputs": []
    },
    {
      "cell_type": "code",
      "metadata": {
        "colab": {
          "base_uri": "https://localhost:8080/",
          "height": 66,
          "referenced_widgets": [
            "4fd91b86618d4ebd93c778a02961cbcc",
            "6295c48893bd48ef9afc74ee4334a3db",
            "6878c5cc75fa49448cac7ae1fbf9f8ce",
            "f26b10e7f8394409b68d9b6a869d948a",
            "68d0add5c1cb4c7ba467c4c9ad2c97b8"
          ]
        },
        "id": "DVxWTFChchRO",
        "outputId": "ecf1c8ee-9afd-45f8-a1c0-77d87db1d6a9"
      },
      "source": [
        "predict_button.on_click(predict)\n",
        "display(predict_button, result)"
      ],
      "execution_count": 65,
      "outputs": [
        {
          "output_type": "display_data",
          "data": {
            "application/vnd.jupyter.widget-view+json": {
              "model_id": "4fd91b86618d4ebd93c778a02961cbcc",
              "version_minor": 0,
              "version_major": 2
            },
            "text/plain": [
              "Button(description='Predict!', style=ButtonStyle())"
            ]
          },
          "metadata": {}
        },
        {
          "output_type": "display_data",
          "data": {
            "application/vnd.jupyter.widget-view+json": {
              "model_id": "f26b10e7f8394409b68d9b6a869d948a",
              "version_minor": 0,
              "version_major": 2
            },
            "text/plain": [
              "Output()"
            ]
          },
          "metadata": {}
        }
      ]
    }
  ]
}